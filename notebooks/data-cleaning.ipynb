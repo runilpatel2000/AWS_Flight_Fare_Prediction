{
 "cells": [
  {
   "cell_type": "markdown",
   "id": "14b1ec1c-416f-4e86-ad8e-0515bee93da1",
   "metadata": {},
   "source": [
    "## 1. Importing Libraries"
   ]
  },
  {
   "cell_type": "code",
   "execution_count": 3,
   "id": "d25f6870-b4f2-417a-9e32-2faf19977843",
   "metadata": {},
   "outputs": [],
   "source": [
    "import os\n",
    "\n",
    "import pandas as pd\n",
    "\n",
    "import numpy as np\n",
    "\n",
    "from sklearn.model_selection import train_test_split"
   ]
  },
  {
   "cell_type": "code",
   "execution_count": 4,
   "id": "618a89d1-b899-47ce-bffc-f787d307ecab",
   "metadata": {},
   "outputs": [
    {
     "name": "stdout",
     "output_type": "stream",
     "text": [
      "Requirement already satisfied: pandas in c:\\users\\admin\\appdata\\local\\programs\\python\\python312\\lib\\site-packages (2.2.1)\n",
      "Requirement already satisfied: openpyxl in c:\\users\\admin\\appdata\\local\\programs\\python\\python312\\lib\\site-packages (3.1.2)\n",
      "Requirement already satisfied: numpy<2,>=1.26.0 in c:\\users\\admin\\appdata\\local\\programs\\python\\python312\\lib\\site-packages (from pandas) (1.26.4)\n",
      "Requirement already satisfied: python-dateutil>=2.8.2 in c:\\users\\admin\\appdata\\local\\programs\\python\\python312\\lib\\site-packages (from pandas) (2.8.2)\n",
      "Requirement already satisfied: pytz>=2020.1 in c:\\users\\admin\\appdata\\local\\programs\\python\\python312\\lib\\site-packages (from pandas) (2024.1)\n",
      "Requirement already satisfied: tzdata>=2022.7 in c:\\users\\admin\\appdata\\local\\programs\\python\\python312\\lib\\site-packages (from pandas) (2024.1)\n",
      "Requirement already satisfied: et-xmlfile in c:\\users\\admin\\appdata\\local\\programs\\python\\python312\\lib\\site-packages (from openpyxl) (1.1.0)\n",
      "Requirement already satisfied: six>=1.5 in c:\\users\\admin\\appdata\\local\\programs\\python\\python312\\lib\\site-packages (from python-dateutil>=2.8.2->pandas) (1.16.0)\n"
     ]
    }
   ],
   "source": [
    "!pip install pandas openpyxl"
   ]
  },
  {
   "cell_type": "markdown",
   "id": "dc224b7b-da86-4363-9d49-02e17a501283",
   "metadata": {},
   "source": [
    "## 2. Read the data and cleaning starts"
   ]
  },
  {
   "cell_type": "code",
   "execution_count": 5,
   "id": "d5d1d4f0-ff93-462b-8ea6-afdb361b1d9a",
   "metadata": {},
   "outputs": [],
   "source": [
    "PROJECT_DIR = r\"D:\\Coding\\AWS Flight Fare Prediction\"\n",
    "DATA_DIR = \"Data\""
   ]
  },
  {
   "cell_type": "code",
   "execution_count": 6,
   "id": "b506d01a-0bd5-4c74-954a-f196a2d60ee1",
   "metadata": {},
   "outputs": [],
   "source": [
    "def get_data(name):\n",
    "    file_name = f\"{name}.xlsx\"\n",
    "    file_path = os.path.join(PROJECT_DIR,DATA_DIR,file_name)\n",
    "    return pd.read_excel(file_path)"
   ]
  },
  {
   "cell_type": "code",
   "execution_count": 7,
   "id": "df14940a-e970-4dbd-a755-ba923c25a85b",
   "metadata": {},
   "outputs": [],
   "source": [
    "flights = get_data(\"Flight_Fare_Prediction\")"
   ]
  },
  {
   "cell_type": "code",
   "execution_count": 8,
   "id": "0b79e054-a5a8-42ac-8399-e2c1cbffec31",
   "metadata": {},
   "outputs": [
    {
     "data": {
      "text/html": [
       "<div>\n",
       "<style scoped>\n",
       "    .dataframe tbody tr th:only-of-type {\n",
       "        vertical-align: middle;\n",
       "    }\n",
       "\n",
       "    .dataframe tbody tr th {\n",
       "        vertical-align: top;\n",
       "    }\n",
       "\n",
       "    .dataframe thead th {\n",
       "        text-align: right;\n",
       "    }\n",
       "</style>\n",
       "<table border=\"1\" class=\"dataframe\">\n",
       "  <thead>\n",
       "    <tr style=\"text-align: right;\">\n",
       "      <th></th>\n",
       "      <th>Date_of_Journey</th>\n",
       "      <th>Airlines</th>\n",
       "      <th>Airlines_code</th>\n",
       "      <th>Class</th>\n",
       "      <th>Departure</th>\n",
       "      <th>Total_Stops</th>\n",
       "      <th>Arrival</th>\n",
       "      <th>Duration_in_Hours</th>\n",
       "      <th>Price_fare</th>\n",
       "      <th>Source</th>\n",
       "      <th>Destination</th>\n",
       "      <th>Route</th>\n",
       "      <th>Unnamed: 12</th>\n",
       "      <th>Unnamed: 13</th>\n",
       "    </tr>\n",
       "  </thead>\n",
       "  <tbody>\n",
       "    <tr>\n",
       "      <th>0</th>\n",
       "      <td>2024-05-14</td>\n",
       "      <td>Indigo</td>\n",
       "      <td>6E-2519</td>\n",
       "      <td>Economy</td>\n",
       "      <td>21:26</td>\n",
       "      <td>non-stop</td>\n",
       "      <td>11:16</td>\n",
       "      <td>2.3333</td>\n",
       "      <td>5899</td>\n",
       "      <td>Banglore</td>\n",
       "      <td>New Delhi</td>\n",
       "      <td>BLR → DEL</td>\n",
       "      <td>NaN</td>\n",
       "      <td>2024-01-01</td>\n",
       "    </tr>\n",
       "    <tr>\n",
       "      <th>1</th>\n",
       "      <td>2024-10-22</td>\n",
       "      <td>GO FIRST</td>\n",
       "      <td>G8-354</td>\n",
       "      <td>Economy</td>\n",
       "      <td>04:52</td>\n",
       "      <td>2 stops</td>\n",
       "      <td>23:58</td>\n",
       "      <td>2.1667</td>\n",
       "      <td>5801</td>\n",
       "      <td>Kolkata</td>\n",
       "      <td>Banglore</td>\n",
       "      <td>CCU → IXR → BBI → BLR</td>\n",
       "      <td>NaN</td>\n",
       "      <td>2024-12-31</td>\n",
       "    </tr>\n",
       "    <tr>\n",
       "      <th>2</th>\n",
       "      <td>2024-10-21</td>\n",
       "      <td>SpiceJet</td>\n",
       "      <td>SG-8709</td>\n",
       "      <td>Economy</td>\n",
       "      <td>13:28</td>\n",
       "      <td>2 stops</td>\n",
       "      <td>02:07</td>\n",
       "      <td>2.0833</td>\n",
       "      <td>5794</td>\n",
       "      <td>Delhi</td>\n",
       "      <td>Cochin</td>\n",
       "      <td>DEL → LKO → BOM → COK</td>\n",
       "      <td>NaN</td>\n",
       "      <td>NaT</td>\n",
       "    </tr>\n",
       "    <tr>\n",
       "      <th>3</th>\n",
       "      <td>2024-06-09</td>\n",
       "      <td>Air India</td>\n",
       "      <td>AI-805</td>\n",
       "      <td>Economy</td>\n",
       "      <td>08:00</td>\n",
       "      <td>1 stop</td>\n",
       "      <td>02:23</td>\n",
       "      <td>2.1667</td>\n",
       "      <td>5955</td>\n",
       "      <td>Kolkata</td>\n",
       "      <td>Banglore</td>\n",
       "      <td>CCU → NAG → BLR</td>\n",
       "      <td>NaN</td>\n",
       "      <td>NaT</td>\n",
       "    </tr>\n",
       "    <tr>\n",
       "      <th>4</th>\n",
       "      <td>2024-05-31</td>\n",
       "      <td>Air India</td>\n",
       "      <td>AI-605</td>\n",
       "      <td>Economy</td>\n",
       "      <td>12:22</td>\n",
       "      <td>1 stop</td>\n",
       "      <td>21:15</td>\n",
       "      <td>2.2500</td>\n",
       "      <td>5955</td>\n",
       "      <td>Banglore</td>\n",
       "      <td>New Delhi</td>\n",
       "      <td>BLR → NAG → DEL</td>\n",
       "      <td>NaN</td>\n",
       "      <td>NaT</td>\n",
       "    </tr>\n",
       "    <tr>\n",
       "      <th>...</th>\n",
       "      <td>...</td>\n",
       "      <td>...</td>\n",
       "      <td>...</td>\n",
       "      <td>...</td>\n",
       "      <td>...</td>\n",
       "      <td>...</td>\n",
       "      <td>...</td>\n",
       "      <td>...</td>\n",
       "      <td>...</td>\n",
       "      <td>...</td>\n",
       "      <td>...</td>\n",
       "      <td>...</td>\n",
       "      <td>...</td>\n",
       "      <td>...</td>\n",
       "    </tr>\n",
       "    <tr>\n",
       "      <th>10677</th>\n",
       "      <td>2024-03-10</td>\n",
       "      <td>Air India</td>\n",
       "      <td>AI-811</td>\n",
       "      <td>Business</td>\n",
       "      <td>13:52</td>\n",
       "      <td>non-stop</td>\n",
       "      <td>05:03</td>\n",
       "      <td>21.7500</td>\n",
       "      <td>32646</td>\n",
       "      <td>Banglore</td>\n",
       "      <td>Delhi</td>\n",
       "      <td>BLR → DEL</td>\n",
       "      <td>NaN</td>\n",
       "      <td>NaT</td>\n",
       "    </tr>\n",
       "    <tr>\n",
       "      <th>10678</th>\n",
       "      <td>2024-04-26</td>\n",
       "      <td>Air India</td>\n",
       "      <td>AI-479</td>\n",
       "      <td>Business</td>\n",
       "      <td>15:56</td>\n",
       "      <td>non-stop</td>\n",
       "      <td>09:39</td>\n",
       "      <td>20.6667</td>\n",
       "      <td>35532</td>\n",
       "      <td>Kolkata</td>\n",
       "      <td>Banglore</td>\n",
       "      <td>CCU → BLR</td>\n",
       "      <td>NaN</td>\n",
       "      <td>NaT</td>\n",
       "    </tr>\n",
       "    <tr>\n",
       "      <th>10679</th>\n",
       "      <td>2024-07-05</td>\n",
       "      <td>Air India</td>\n",
       "      <td>AI-463</td>\n",
       "      <td>Business</td>\n",
       "      <td>17:36</td>\n",
       "      <td>non-stop</td>\n",
       "      <td>15:03</td>\n",
       "      <td>27.6667</td>\n",
       "      <td>35532</td>\n",
       "      <td>Kolkata</td>\n",
       "      <td>Banglore</td>\n",
       "      <td>CCU → BLR</td>\n",
       "      <td>NaN</td>\n",
       "      <td>NaT</td>\n",
       "    </tr>\n",
       "    <tr>\n",
       "      <th>10680</th>\n",
       "      <td>2024-06-19</td>\n",
       "      <td>Air India</td>\n",
       "      <td>AI-471</td>\n",
       "      <td>Business</td>\n",
       "      <td>20:25</td>\n",
       "      <td>non-stop</td>\n",
       "      <td>01:04</td>\n",
       "      <td>5.3333</td>\n",
       "      <td>37256</td>\n",
       "      <td>Banglore</td>\n",
       "      <td>Delhi</td>\n",
       "      <td>BLR → DEL</td>\n",
       "      <td>NaN</td>\n",
       "      <td>NaT</td>\n",
       "    </tr>\n",
       "    <tr>\n",
       "      <th>10681</th>\n",
       "      <td>2024-09-30</td>\n",
       "      <td>Vistara</td>\n",
       "      <td>UK-635</td>\n",
       "      <td>Business</td>\n",
       "      <td>09:05</td>\n",
       "      <td>non-stop</td>\n",
       "      <td>17:45</td>\n",
       "      <td>4.8333</td>\n",
       "      <td>37417</td>\n",
       "      <td>Banglore</td>\n",
       "      <td>New Delhi</td>\n",
       "      <td>BLR → DEL</td>\n",
       "      <td>NaN</td>\n",
       "      <td>NaT</td>\n",
       "    </tr>\n",
       "  </tbody>\n",
       "</table>\n",
       "<p>10682 rows × 14 columns</p>\n",
       "</div>"
      ],
      "text/plain": [
       "      Date_of_Journey   Airlines Airlines_code     Class Departure  \\\n",
       "0          2024-05-14     Indigo       6E-2519   Economy     21:26   \n",
       "1          2024-10-22   GO FIRST        G8-354   Economy     04:52   \n",
       "2          2024-10-21   SpiceJet       SG-8709   Economy     13:28   \n",
       "3          2024-06-09  Air India        AI-805   Economy     08:00   \n",
       "4          2024-05-31  Air India        AI-605   Economy     12:22   \n",
       "...               ...        ...           ...       ...       ...   \n",
       "10677      2024-03-10  Air India        AI-811  Business     13:52   \n",
       "10678      2024-04-26  Air India        AI-479  Business     15:56   \n",
       "10679      2024-07-05  Air India        AI-463  Business     17:36   \n",
       "10680      2024-06-19  Air India        AI-471  Business     20:25   \n",
       "10681      2024-09-30    Vistara        UK-635  Business     09:05   \n",
       "\n",
       "      Total_Stops Arrival  Duration_in_Hours  Price_fare    Source  \\\n",
       "0        non-stop   11:16             2.3333        5899  Banglore   \n",
       "1         2 stops   23:58             2.1667        5801   Kolkata   \n",
       "2         2 stops   02:07             2.0833        5794     Delhi   \n",
       "3          1 stop   02:23             2.1667        5955   Kolkata   \n",
       "4          1 stop   21:15             2.2500        5955  Banglore   \n",
       "...           ...     ...                ...         ...       ...   \n",
       "10677    non-stop   05:03            21.7500       32646  Banglore   \n",
       "10678    non-stop   09:39            20.6667       35532   Kolkata   \n",
       "10679    non-stop   15:03            27.6667       35532   Kolkata   \n",
       "10680    non-stop   01:04             5.3333       37256  Banglore   \n",
       "10681    non-stop   17:45             4.8333       37417  Banglore   \n",
       "\n",
       "      Destination                  Route  Unnamed: 12 Unnamed: 13  \n",
       "0       New Delhi              BLR → DEL          NaN  2024-01-01  \n",
       "1        Banglore  CCU → IXR → BBI → BLR          NaN  2024-12-31  \n",
       "2          Cochin  DEL → LKO → BOM → COK          NaN         NaT  \n",
       "3        Banglore        CCU → NAG → BLR          NaN         NaT  \n",
       "4       New Delhi        BLR → NAG → DEL          NaN         NaT  \n",
       "...           ...                    ...          ...         ...  \n",
       "10677       Delhi              BLR → DEL          NaN         NaT  \n",
       "10678    Banglore              CCU → BLR          NaN         NaT  \n",
       "10679    Banglore              CCU → BLR          NaN         NaT  \n",
       "10680       Delhi              BLR → DEL          NaN         NaT  \n",
       "10681   New Delhi              BLR → DEL          NaN         NaT  \n",
       "\n",
       "[10682 rows x 14 columns]"
      ]
     },
     "execution_count": 8,
     "metadata": {},
     "output_type": "execute_result"
    }
   ],
   "source": [
    "flights"
   ]
  },
  {
   "cell_type": "code",
   "execution_count": 9,
   "id": "9dc62792-7f46-4e8e-8ce8-12f444e668b3",
   "metadata": {},
   "outputs": [],
   "source": [
    "flights.drop('Unnamed: 12',axis=1,inplace=True)\n",
    "flights.drop('Unnamed: 13',axis=1,inplace=True)"
   ]
  },
  {
   "cell_type": "code",
   "execution_count": 10,
   "id": "427670ce-fb98-42a8-92d2-8eb6bd3b91e3",
   "metadata": {},
   "outputs": [
    {
     "data": {
      "text/html": [
       "<div>\n",
       "<style scoped>\n",
       "    .dataframe tbody tr th:only-of-type {\n",
       "        vertical-align: middle;\n",
       "    }\n",
       "\n",
       "    .dataframe tbody tr th {\n",
       "        vertical-align: top;\n",
       "    }\n",
       "\n",
       "    .dataframe thead th {\n",
       "        text-align: right;\n",
       "    }\n",
       "</style>\n",
       "<table border=\"1\" class=\"dataframe\">\n",
       "  <thead>\n",
       "    <tr style=\"text-align: right;\">\n",
       "      <th></th>\n",
       "      <th>Date_of_Journey</th>\n",
       "      <th>Airlines</th>\n",
       "      <th>Airlines_code</th>\n",
       "      <th>Class</th>\n",
       "      <th>Departure</th>\n",
       "      <th>Total_Stops</th>\n",
       "      <th>Arrival</th>\n",
       "      <th>Duration_in_Hours</th>\n",
       "      <th>Price_fare</th>\n",
       "      <th>Source</th>\n",
       "      <th>Destination</th>\n",
       "      <th>Route</th>\n",
       "    </tr>\n",
       "  </thead>\n",
       "  <tbody>\n",
       "    <tr>\n",
       "      <th>0</th>\n",
       "      <td>2024-05-14</td>\n",
       "      <td>Indigo</td>\n",
       "      <td>6E-2519</td>\n",
       "      <td>Economy</td>\n",
       "      <td>21:26</td>\n",
       "      <td>non-stop</td>\n",
       "      <td>11:16</td>\n",
       "      <td>2.3333</td>\n",
       "      <td>5899</td>\n",
       "      <td>Banglore</td>\n",
       "      <td>New Delhi</td>\n",
       "      <td>BLR → DEL</td>\n",
       "    </tr>\n",
       "    <tr>\n",
       "      <th>1</th>\n",
       "      <td>2024-10-22</td>\n",
       "      <td>GO FIRST</td>\n",
       "      <td>G8-354</td>\n",
       "      <td>Economy</td>\n",
       "      <td>04:52</td>\n",
       "      <td>2 stops</td>\n",
       "      <td>23:58</td>\n",
       "      <td>2.1667</td>\n",
       "      <td>5801</td>\n",
       "      <td>Kolkata</td>\n",
       "      <td>Banglore</td>\n",
       "      <td>CCU → IXR → BBI → BLR</td>\n",
       "    </tr>\n",
       "    <tr>\n",
       "      <th>2</th>\n",
       "      <td>2024-10-21</td>\n",
       "      <td>SpiceJet</td>\n",
       "      <td>SG-8709</td>\n",
       "      <td>Economy</td>\n",
       "      <td>13:28</td>\n",
       "      <td>2 stops</td>\n",
       "      <td>02:07</td>\n",
       "      <td>2.0833</td>\n",
       "      <td>5794</td>\n",
       "      <td>Delhi</td>\n",
       "      <td>Cochin</td>\n",
       "      <td>DEL → LKO → BOM → COK</td>\n",
       "    </tr>\n",
       "    <tr>\n",
       "      <th>3</th>\n",
       "      <td>2024-06-09</td>\n",
       "      <td>Air India</td>\n",
       "      <td>AI-805</td>\n",
       "      <td>Economy</td>\n",
       "      <td>08:00</td>\n",
       "      <td>1 stop</td>\n",
       "      <td>02:23</td>\n",
       "      <td>2.1667</td>\n",
       "      <td>5955</td>\n",
       "      <td>Kolkata</td>\n",
       "      <td>Banglore</td>\n",
       "      <td>CCU → NAG → BLR</td>\n",
       "    </tr>\n",
       "    <tr>\n",
       "      <th>4</th>\n",
       "      <td>2024-05-31</td>\n",
       "      <td>Air India</td>\n",
       "      <td>AI-605</td>\n",
       "      <td>Economy</td>\n",
       "      <td>12:22</td>\n",
       "      <td>1 stop</td>\n",
       "      <td>21:15</td>\n",
       "      <td>2.2500</td>\n",
       "      <td>5955</td>\n",
       "      <td>Banglore</td>\n",
       "      <td>New Delhi</td>\n",
       "      <td>BLR → NAG → DEL</td>\n",
       "    </tr>\n",
       "    <tr>\n",
       "      <th>...</th>\n",
       "      <td>...</td>\n",
       "      <td>...</td>\n",
       "      <td>...</td>\n",
       "      <td>...</td>\n",
       "      <td>...</td>\n",
       "      <td>...</td>\n",
       "      <td>...</td>\n",
       "      <td>...</td>\n",
       "      <td>...</td>\n",
       "      <td>...</td>\n",
       "      <td>...</td>\n",
       "      <td>...</td>\n",
       "    </tr>\n",
       "    <tr>\n",
       "      <th>10677</th>\n",
       "      <td>2024-03-10</td>\n",
       "      <td>Air India</td>\n",
       "      <td>AI-811</td>\n",
       "      <td>Business</td>\n",
       "      <td>13:52</td>\n",
       "      <td>non-stop</td>\n",
       "      <td>05:03</td>\n",
       "      <td>21.7500</td>\n",
       "      <td>32646</td>\n",
       "      <td>Banglore</td>\n",
       "      <td>Delhi</td>\n",
       "      <td>BLR → DEL</td>\n",
       "    </tr>\n",
       "    <tr>\n",
       "      <th>10678</th>\n",
       "      <td>2024-04-26</td>\n",
       "      <td>Air India</td>\n",
       "      <td>AI-479</td>\n",
       "      <td>Business</td>\n",
       "      <td>15:56</td>\n",
       "      <td>non-stop</td>\n",
       "      <td>09:39</td>\n",
       "      <td>20.6667</td>\n",
       "      <td>35532</td>\n",
       "      <td>Kolkata</td>\n",
       "      <td>Banglore</td>\n",
       "      <td>CCU → BLR</td>\n",
       "    </tr>\n",
       "    <tr>\n",
       "      <th>10679</th>\n",
       "      <td>2024-07-05</td>\n",
       "      <td>Air India</td>\n",
       "      <td>AI-463</td>\n",
       "      <td>Business</td>\n",
       "      <td>17:36</td>\n",
       "      <td>non-stop</td>\n",
       "      <td>15:03</td>\n",
       "      <td>27.6667</td>\n",
       "      <td>35532</td>\n",
       "      <td>Kolkata</td>\n",
       "      <td>Banglore</td>\n",
       "      <td>CCU → BLR</td>\n",
       "    </tr>\n",
       "    <tr>\n",
       "      <th>10680</th>\n",
       "      <td>2024-06-19</td>\n",
       "      <td>Air India</td>\n",
       "      <td>AI-471</td>\n",
       "      <td>Business</td>\n",
       "      <td>20:25</td>\n",
       "      <td>non-stop</td>\n",
       "      <td>01:04</td>\n",
       "      <td>5.3333</td>\n",
       "      <td>37256</td>\n",
       "      <td>Banglore</td>\n",
       "      <td>Delhi</td>\n",
       "      <td>BLR → DEL</td>\n",
       "    </tr>\n",
       "    <tr>\n",
       "      <th>10681</th>\n",
       "      <td>2024-09-30</td>\n",
       "      <td>Vistara</td>\n",
       "      <td>UK-635</td>\n",
       "      <td>Business</td>\n",
       "      <td>09:05</td>\n",
       "      <td>non-stop</td>\n",
       "      <td>17:45</td>\n",
       "      <td>4.8333</td>\n",
       "      <td>37417</td>\n",
       "      <td>Banglore</td>\n",
       "      <td>New Delhi</td>\n",
       "      <td>BLR → DEL</td>\n",
       "    </tr>\n",
       "  </tbody>\n",
       "</table>\n",
       "<p>10682 rows × 12 columns</p>\n",
       "</div>"
      ],
      "text/plain": [
       "      Date_of_Journey   Airlines Airlines_code     Class Departure  \\\n",
       "0          2024-05-14     Indigo       6E-2519   Economy     21:26   \n",
       "1          2024-10-22   GO FIRST        G8-354   Economy     04:52   \n",
       "2          2024-10-21   SpiceJet       SG-8709   Economy     13:28   \n",
       "3          2024-06-09  Air India        AI-805   Economy     08:00   \n",
       "4          2024-05-31  Air India        AI-605   Economy     12:22   \n",
       "...               ...        ...           ...       ...       ...   \n",
       "10677      2024-03-10  Air India        AI-811  Business     13:52   \n",
       "10678      2024-04-26  Air India        AI-479  Business     15:56   \n",
       "10679      2024-07-05  Air India        AI-463  Business     17:36   \n",
       "10680      2024-06-19  Air India        AI-471  Business     20:25   \n",
       "10681      2024-09-30    Vistara        UK-635  Business     09:05   \n",
       "\n",
       "      Total_Stops Arrival  Duration_in_Hours  Price_fare    Source  \\\n",
       "0        non-stop   11:16             2.3333        5899  Banglore   \n",
       "1         2 stops   23:58             2.1667        5801   Kolkata   \n",
       "2         2 stops   02:07             2.0833        5794     Delhi   \n",
       "3          1 stop   02:23             2.1667        5955   Kolkata   \n",
       "4          1 stop   21:15             2.2500        5955  Banglore   \n",
       "...           ...     ...                ...         ...       ...   \n",
       "10677    non-stop   05:03            21.7500       32646  Banglore   \n",
       "10678    non-stop   09:39            20.6667       35532   Kolkata   \n",
       "10679    non-stop   15:03            27.6667       35532   Kolkata   \n",
       "10680    non-stop   01:04             5.3333       37256  Banglore   \n",
       "10681    non-stop   17:45             4.8333       37417  Banglore   \n",
       "\n",
       "      Destination                  Route  \n",
       "0       New Delhi              BLR → DEL  \n",
       "1        Banglore  CCU → IXR → BBI → BLR  \n",
       "2          Cochin  DEL → LKO → BOM → COK  \n",
       "3        Banglore        CCU → NAG → BLR  \n",
       "4       New Delhi        BLR → NAG → DEL  \n",
       "...           ...                    ...  \n",
       "10677       Delhi              BLR → DEL  \n",
       "10678    Banglore              CCU → BLR  \n",
       "10679    Banglore              CCU → BLR  \n",
       "10680       Delhi              BLR → DEL  \n",
       "10681   New Delhi              BLR → DEL  \n",
       "\n",
       "[10682 rows x 12 columns]"
      ]
     },
     "execution_count": 10,
     "metadata": {},
     "output_type": "execute_result"
    }
   ],
   "source": [
    "flights"
   ]
  },
  {
   "cell_type": "code",
   "execution_count": 11,
   "id": "24c8053f-2c6f-44e5-8e79-0e7e39e214d0",
   "metadata": {},
   "outputs": [
    {
     "name": "stdout",
     "output_type": "stream",
     "text": [
      "<class 'pandas.core.frame.DataFrame'>\n",
      "RangeIndex: 10682 entries, 0 to 10681\n",
      "Data columns (total 12 columns):\n",
      " #   Column             Non-Null Count  Dtype         \n",
      "---  ------             --------------  -----         \n",
      " 0   Date_of_Journey    10682 non-null  datetime64[ns]\n",
      " 1   Airlines           10682 non-null  object        \n",
      " 2   Airlines_code      10682 non-null  object        \n",
      " 3   Class              10682 non-null  object        \n",
      " 4   Departure          10682 non-null  object        \n",
      " 5   Total_Stops        10681 non-null  object        \n",
      " 6   Arrival            10682 non-null  object        \n",
      " 7   Duration_in_Hours  10682 non-null  float64       \n",
      " 8   Price_fare         10682 non-null  int64         \n",
      " 9   Source             10682 non-null  object        \n",
      " 10  Destination        10682 non-null  object        \n",
      " 11  Route              10681 non-null  object        \n",
      "dtypes: datetime64[ns](1), float64(1), int64(1), object(9)\n",
      "memory usage: 1001.6+ KB\n"
     ]
    }
   ],
   "source": [
    "flights.info()"
   ]
  },
  {
   "cell_type": "markdown",
   "id": "1f62c933-e003-4236-8ef0-29eba5bf7755",
   "metadata": {},
   "source": [
    "- We have 1 missing value in Total_Stops and Route Column\n",
    "- We have total 10682 rows and 11 columns\n",
    "- The data type of columns are inappropriate"
   ]
  },
  {
   "cell_type": "markdown",
   "id": "6c3d9633-98fd-4467-8af3-ad5fab0990b1",
   "metadata": {},
   "source": [
    "## 3. Preliminary Analysis"
   ]
  },
  {
   "cell_type": "markdown",
   "id": "0f3c7dd6-c086-4d13-8db0-b46aa349af73",
   "metadata": {},
   "source": [
    "### 3.1 Check Data Types"
   ]
  },
  {
   "cell_type": "code",
   "execution_count": 12,
   "id": "bc4a795e-47ef-4521-b0f5-af793d50525a",
   "metadata": {},
   "outputs": [
    {
     "data": {
      "text/plain": [
       "Date_of_Journey      datetime64[ns]\n",
       "Airlines                     object\n",
       "Airlines_code                object\n",
       "Class                        object\n",
       "Departure                    object\n",
       "Total_Stops                  object\n",
       "Arrival                      object\n",
       "Duration_in_Hours           float64\n",
       "Price_fare                    int64\n",
       "Source                       object\n",
       "Destination                  object\n",
       "Route                        object\n",
       "dtype: object"
      ]
     },
     "execution_count": 12,
     "metadata": {},
     "output_type": "execute_result"
    }
   ],
   "source": [
    "flights.dtypes"
   ]
  },
  {
   "cell_type": "code",
   "execution_count": 13,
   "id": "61538352-dfe8-40b0-b0be-2106af3bbe4f",
   "metadata": {},
   "outputs": [
    {
     "data": {
      "text/plain": [
       "Timestamp('2024-08-23 00:00:00')"
      ]
     },
     "execution_count": 13,
     "metadata": {},
     "output_type": "execute_result"
    }
   ],
   "source": [
    "value = flights.Date_of_Journey.iloc[7]\n",
    "value"
   ]
  },
  {
   "cell_type": "code",
   "execution_count": 14,
   "id": "be9c93e9-eef9-4be4-8183-8abe5a5086f9",
   "metadata": {},
   "outputs": [
    {
     "data": {
      "text/plain": [
       "'13:28'"
      ]
     },
     "execution_count": 14,
     "metadata": {},
     "output_type": "execute_result"
    }
   ],
   "source": [
    "value_1 = flights.Departure.iloc[2]\n",
    "value_1"
   ]
  },
  {
   "cell_type": "code",
   "execution_count": 15,
   "id": "77b6dca8-2614-4545-985b-37b8f8cf37d7",
   "metadata": {},
   "outputs": [
    {
     "data": {
      "text/plain": [
       "'02:07'"
      ]
     },
     "execution_count": 15,
     "metadata": {},
     "output_type": "execute_result"
    }
   ],
   "source": [
    "value_2 = flights.Arrival.iloc[2]\n",
    "value_2"
   ]
  },
  {
   "cell_type": "code",
   "execution_count": 16,
   "id": "45fb62ae-c75e-4fce-aa4e-355c5527910d",
   "metadata": {},
   "outputs": [
    {
     "data": {
      "text/plain": [
       "2.25"
      ]
     },
     "execution_count": 16,
     "metadata": {},
     "output_type": "execute_result"
    }
   ],
   "source": [
    "value_3 = flights.Duration_in_Hours.iloc[5]\n",
    "value_3"
   ]
  },
  {
   "cell_type": "code",
   "execution_count": 17,
   "id": "f9336d6c-585b-4b4a-9be6-b106759b18d9",
   "metadata": {},
   "outputs": [
    {
     "data": {
      "text/plain": [
       "'1 stop'"
      ]
     },
     "execution_count": 17,
     "metadata": {},
     "output_type": "execute_result"
    }
   ],
   "source": [
    "value_4 = flights.Total_Stops.iloc[4]\n",
    "value_4"
   ]
  },
  {
   "cell_type": "markdown",
   "id": "3e38d90f-8503-40ef-8669-00a443cbad50",
   "metadata": {},
   "source": [
    "### 3.2 Check For Duplicates"
   ]
  },
  {
   "cell_type": "code",
   "execution_count": 18,
   "id": "0ededba2-ab9e-4261-92fe-740cb8e6ea26",
   "metadata": {},
   "outputs": [
    {
     "data": {
      "text/plain": [
       "0"
      ]
     },
     "execution_count": 18,
     "metadata": {},
     "output_type": "execute_result"
    }
   ],
   "source": [
    "flights.duplicated().sum()"
   ]
  },
  {
   "cell_type": "code",
   "execution_count": 19,
   "id": "829f9018-2e6a-4eff-b7f2-346f2ba78d4d",
   "metadata": {},
   "outputs": [
    {
     "data": {
      "text/html": [
       "<div>\n",
       "<style scoped>\n",
       "    .dataframe tbody tr th:only-of-type {\n",
       "        vertical-align: middle;\n",
       "    }\n",
       "\n",
       "    .dataframe tbody tr th {\n",
       "        vertical-align: top;\n",
       "    }\n",
       "\n",
       "    .dataframe thead th {\n",
       "        text-align: right;\n",
       "    }\n",
       "</style>\n",
       "<table border=\"1\" class=\"dataframe\">\n",
       "  <thead>\n",
       "    <tr style=\"text-align: right;\">\n",
       "      <th></th>\n",
       "      <th>Date_of_Journey</th>\n",
       "      <th>Airlines</th>\n",
       "      <th>Airlines_code</th>\n",
       "      <th>Class</th>\n",
       "      <th>Departure</th>\n",
       "      <th>Total_Stops</th>\n",
       "      <th>Arrival</th>\n",
       "      <th>Duration_in_Hours</th>\n",
       "      <th>Price_fare</th>\n",
       "      <th>Source</th>\n",
       "      <th>Destination</th>\n",
       "      <th>Route</th>\n",
       "    </tr>\n",
       "  </thead>\n",
       "  <tbody>\n",
       "  </tbody>\n",
       "</table>\n",
       "</div>"
      ],
      "text/plain": [
       "Empty DataFrame\n",
       "Columns: [Date_of_Journey, Airlines, Airlines_code, Class, Departure, Total_Stops, Arrival, Duration_in_Hours, Price_fare, Source, Destination, Route]\n",
       "Index: []"
      ]
     },
     "execution_count": 19,
     "metadata": {},
     "output_type": "execute_result"
    }
   ],
   "source": [
    "(\n",
    "    flights.\n",
    "    loc[flights.duplicated(keep=False)]\n",
    "    .sort_values(['Airlines','Date_of_Journey','Source','Destination'])\n",
    ")\n",
    "# Here loc function help us to filter the duplicate values more specifically \n",
    "# Keep = False means it counts all duplicate values and shows which values are same."
   ]
  },
  {
   "cell_type": "markdown",
   "id": "4c733c44-7af3-4070-a852-9b39c047f544",
   "metadata": {},
   "source": [
    "### 3.3 Observations\n",
    "- The type of arrival and departure time should be datetime data type instead of string or object datatype.\n",
    "- The total_stops has mixed data type but they should be numeric data type.\n",
    "- There are 4 duplicate values in a dataset."
   ]
  },
  {
   "cell_type": "markdown",
   "id": "9384384d-43e2-4084-959a-61e6a778baae",
   "metadata": {},
   "source": [
    "## 4. Detailed Analysis"
   ]
  },
  {
   "cell_type": "code",
   "execution_count": 20,
   "id": "355734f4-ad8e-4fe8-879d-f3f51e82b0d2",
   "metadata": {},
   "outputs": [
    {
     "data": {
      "text/plain": [
       "0           Indigo\n",
       "1         GO FIRST\n",
       "2         SpiceJet\n",
       "3        Air India\n",
       "4        Air India\n",
       "           ...    \n",
       "10677    Air India\n",
       "10678    Air India\n",
       "10679    Air India\n",
       "10680    Air India\n",
       "10681      Vistara\n",
       "Name: Airlines, Length: 10682, dtype: object"
      ]
     },
     "execution_count": 20,
     "metadata": {},
     "output_type": "execute_result"
    }
   ],
   "source": [
    "flights.Airlines"
   ]
  },
  {
   "cell_type": "code",
   "execution_count": 21,
   "id": "5ec02aaf-9b0b-4861-8d65-9285c9870341",
   "metadata": {},
   "outputs": [
    {
     "data": {
      "text/plain": [
       "array(['Indigo', 'GO FIRST', 'SpiceJet', 'Air India', 'AirAsia',\n",
       "       'Vistara', 'AkasaAir'], dtype=object)"
      ]
     },
     "execution_count": 21,
     "metadata": {},
     "output_type": "execute_result"
    }
   ],
   "source": [
    "flights.Airlines.unique()"
   ]
  },
  {
   "cell_type": "markdown",
   "id": "ec9b887a-b907-4e93-b319-a96fa8f6b3aa",
   "metadata": {},
   "source": [
    "- Here we have no inconsistence values in Airlines column"
   ]
  },
  {
   "cell_type": "code",
   "execution_count": 22,
   "id": "2a580a1d-f69a-4791-8d49-fdb242008133",
   "metadata": {},
   "outputs": [
    {
     "data": {
      "text/plain": [
       "array(['Indigo', 'Go First', 'Spicejet', 'Air India', 'Air Asia',\n",
       "       'Vistara', 'Akasa Air'], dtype=object)"
      ]
     },
     "execution_count": 22,
     "metadata": {},
     "output_type": "execute_result"
    }
   ],
   "source": [
    "(\n",
    "    flights\n",
    "    .Airlines\n",
    "    .str.replace(\"FIRST\",\"First\")\n",
    "    .str.replace(\"Asia\", \" asia\")\n",
    "    .str.replace(\"AkasaAir\", \"Akasa air\")\n",
    "    .str.title() # Title method will capitalize the letter after the space\n",
    "    .unique()\n",
    ")"
   ]
  },
  {
   "cell_type": "markdown",
   "id": "9611b041-aadc-47eb-a618-845c981903ad",
   "metadata": {},
   "source": [
    "### Source"
   ]
  },
  {
   "cell_type": "code",
   "execution_count": 23,
   "id": "8a6152c7-4ba7-4d88-9df2-c355cc666e6f",
   "metadata": {},
   "outputs": [
    {
     "data": {
      "text/plain": [
       "array(['Banglore', 'Kolkata', 'Delhi', 'Chennai', 'Mumbai'], dtype=object)"
      ]
     },
     "execution_count": 23,
     "metadata": {},
     "output_type": "execute_result"
    }
   ],
   "source": [
    "flights.Source.unique()"
   ]
  },
  {
   "cell_type": "markdown",
   "id": "064d58c4-d3b2-4970-b54a-93b3e1b27449",
   "metadata": {},
   "source": [
    "### Destination"
   ]
  },
  {
   "cell_type": "code",
   "execution_count": 24,
   "id": "61cf7cac-7429-43ad-a389-10386298c47d",
   "metadata": {},
   "outputs": [
    {
     "data": {
      "text/plain": [
       "array(['New Delhi', 'Banglore', 'Cochin', 'Kolkata', 'Delhi', 'Hyderabad'],\n",
       "      dtype=object)"
      ]
     },
     "execution_count": 24,
     "metadata": {},
     "output_type": "execute_result"
    }
   ],
   "source": [
    "flights.Destination.unique()"
   ]
  },
  {
   "cell_type": "markdown",
   "id": "871e6992-ae3b-4b54-b4c4-f15c0148579e",
   "metadata": {},
   "source": [
    "### Departure"
   ]
  },
  {
   "cell_type": "code",
   "execution_count": 25,
   "id": "b3c946f4-b60a-4dd0-99af-03e7b7e06cd1",
   "metadata": {},
   "outputs": [
    {
     "data": {
      "text/plain": [
       "Series([], Name: Departure, dtype: object)"
      ]
     },
     "execution_count": 25,
     "metadata": {},
     "output_type": "execute_result"
    }
   ],
   "source": [
    "# Checking if it contains any colon instead of \":\" in time \n",
    "(\n",
    "    flights\n",
    "    .Departure\n",
    "    .loc[lambda ser: ser.str.contains(\"[^0-9:]\")]\n",
    ")"
   ]
  },
  {
   "cell_type": "code",
   "execution_count": 26,
   "id": "7e7db832-4a37-402e-abf4-c96ef06396c0",
   "metadata": {},
   "outputs": [
    {
     "data": {
      "text/plain": [
       "0         2.33\n",
       "1         2.17\n",
       "2         2.08\n",
       "3         2.17\n",
       "4         2.25\n",
       "         ...  \n",
       "10677    21.75\n",
       "10678    20.67\n",
       "10679    27.67\n",
       "10680     5.33\n",
       "10681     4.83\n",
       "Name: Duration_in_Hours, Length: 10682, dtype: float64"
      ]
     },
     "execution_count": 26,
     "metadata": {},
     "output_type": "execute_result"
    }
   ],
   "source": [
    "(\n",
    "    flights\n",
    "    .Duration_in_Hours.round(2)\n",
    ")"
   ]
  },
  {
   "cell_type": "markdown",
   "id": "6ee44518-f1e4-4b79-b5d7-10a04be79874",
   "metadata": {},
   "source": [
    "### Total_Stops"
   ]
  },
  {
   "cell_type": "code",
   "execution_count": 27,
   "id": "17d541f8-e2f1-47b5-9f19-f7d06c98b770",
   "metadata": {},
   "outputs": [
    {
     "data": {
      "text/plain": [
       "0        0.0\n",
       "1        2.0\n",
       "2        2.0\n",
       "3        1.0\n",
       "4        1.0\n",
       "        ... \n",
       "10677    0.0\n",
       "10678    0.0\n",
       "10679    0.0\n",
       "10680    0.0\n",
       "10681    0.0\n",
       "Name: Total_Stops, Length: 10682, dtype: float64"
      ]
     },
     "execution_count": 27,
     "metadata": {},
     "output_type": "execute_result"
    }
   ],
   "source": [
    "(\n",
    "    flights\n",
    "    .Total_Stops\n",
    "    .str.replace(\"non-stop\",\"0\")\n",
    "    .str.replace(\" stops?\",\"\",regex=True) # it will search for this pattern and ? either it will consider stop or stops\n",
    "    .pipe(lambda ser: pd.to_numeric(ser))\n",
    ")"
   ]
  },
  {
   "cell_type": "markdown",
   "id": "026ee683-2abe-4219-91b0-04962b813fba",
   "metadata": {},
   "source": [
    "## 5. Cleaning Operations"
   ]
  },
  {
   "cell_type": "code",
   "execution_count": 36,
   "id": "36ab4b42-b1eb-4b4b-995f-0eaf051fca25",
   "metadata": {},
   "outputs": [],
   "source": [
    "# ** This is the operator for unpacking the dictionary simply unpack the dictionary inside which we can access all the columns\n",
    "# using dictionary comprehension concept.\n",
    "\n",
    "from sklearn.impute import SimpleImputer\n",
    "def clean_data(df):\n",
    "    return (\n",
    "        df\n",
    "        .drop_duplicates()\n",
    "        .assign(**{\n",
    "            col: df[col].str.strip()\n",
    "            for col in df.select_dtypes(include=\"O\").columns\n",
    "        })\n",
    "        .rename(columns=str.lower)\n",
    "        .assign (\n",
    "            airlines = lambda df_: (\n",
    "                df_\n",
    "                .airlines\n",
    "                .str.replace(\"FIRST\",\"First\")\n",
    "                .str.replace(\"Asia\", \" asia\")\n",
    "                .str.replace(\"AkasaAir\", \"Akasa air\")\n",
    "                .str.title()\n",
    "                \n",
    "                \n",
    "            ),\n",
    "            departure = lambda df_: pd.to_datetime(df_.departure,format=\"mixed\").dt.time,\n",
    "            arrival = lambda df_: pd.to_datetime(df_.arrival,format=\"mixed\").dt.time,\n",
    "            duration_in_hours = lambda df_: df_.duration_in_hours.round(2)*60,\n",
    "            total_stops = lambda df_: (\n",
    "                df_\n",
    "                .total_stops\n",
    "                .str.replace(\"non-stop\",\"0\")\n",
    "                .str.replace(\" stops?\",\"\",regex=True) # it will search for this pattern and ? either it will consider stop or stops\n",
    "                .pipe(lambda ser: pd.to_numeric(ser)) \n",
    "            )\n",
    "        \n",
    "            \n",
    "        )\n",
    "        .rename(columns = {'duration_in_hours':'duration_in_minutes'})\n",
    "        .drop(columns=\"route\")\n",
    "        .ffill() # It replace the missing values with previous rows present in the dataset and it applies to entire rows which are null\n",
    "    )"
   ]
  },
  {
   "cell_type": "code",
   "execution_count": 38,
   "id": "c1ce91af-7983-4261-aa3f-6a60c178a13b",
   "metadata": {},
   "outputs": [
    {
     "name": "stdout",
     "output_type": "stream",
     "text": [
      "<class 'pandas.core.frame.DataFrame'>\n",
      "RangeIndex: 10682 entries, 0 to 10681\n",
      "Data columns (total 11 columns):\n",
      " #   Column               Non-Null Count  Dtype         \n",
      "---  ------               --------------  -----         \n",
      " 0   date_of_journey      10682 non-null  datetime64[ns]\n",
      " 1   airlines             10682 non-null  object        \n",
      " 2   airlines_code        10682 non-null  object        \n",
      " 3   class                10682 non-null  object        \n",
      " 4   departure            10682 non-null  object        \n",
      " 5   total_stops          10682 non-null  float64       \n",
      " 6   arrival              10682 non-null  object        \n",
      " 7   duration_in_minutes  10682 non-null  float64       \n",
      " 8   price_fare           10682 non-null  int64         \n",
      " 9   source               10682 non-null  object        \n",
      " 10  destination          10682 non-null  object        \n",
      "dtypes: datetime64[ns](1), float64(2), int64(1), object(7)\n",
      "memory usage: 918.1+ KB\n"
     ]
    }
   ],
   "source": [
    "flights_data_cleaned = clean_data(flights)\n",
    "flights_data_cleaned.info()"
   ]
  },
  {
   "cell_type": "markdown",
   "id": "207f2b02-a709-4544-bb0e-1a3f30bc1bfa",
   "metadata": {},
   "source": [
    "## 6. Split the Dataset in train test"
   ]
  },
  {
   "cell_type": "code",
   "execution_count": 39,
   "id": "f9af0f78-f17d-473f-9c11-d819bb924ed2",
   "metadata": {},
   "outputs": [],
   "source": [
    "X = flights_data_cleaned.drop(columns='price_fare')\n",
    "y= flights_data_cleaned.price_fare.copy()"
   ]
  },
  {
   "cell_type": "code",
   "execution_count": 40,
   "id": "3353be3a-34cf-48d6-ab23-55bb98022ede",
   "metadata": {},
   "outputs": [
    {
     "name": "stdout",
     "output_type": "stream",
     "text": [
      "(6836, 10) (6836,)\n",
      "(1709, 10) (1709,)\n",
      "(2137, 10) (2137,)\n"
     ]
    }
   ],
   "source": [
    "X_,X_test,y_,y_test = train_test_split(X,y,test_size=0.2,random_state=41)\n",
    "X_train,X_val,y_train,y_val = train_test_split(X_,y_,test_size=0.2,random_state=41)\n",
    "\n",
    "print(X_train.shape,y_train.shape)\n",
    "print(X_val.shape,y_val.shape)\n",
    "print(X_test.shape,y_test.shape)"
   ]
  },
  {
   "cell_type": "markdown",
   "id": "abcafec0-f431-40ae-a814-629fdfe918e6",
   "metadata": {},
   "source": [
    "## 7. Export the Subsets"
   ]
  },
  {
   "cell_type": "code",
   "execution_count": 41,
   "id": "daa90a7d-1da5-48df-b28f-235c01142c46",
   "metadata": {},
   "outputs": [],
   "source": [
    "def export_flights_data(X,y,name):\n",
    "    file_name = f\"{name}.csv\"\n",
    "    file_path = os.path.join(PROJECT_DIR,DATA_DIR,file_name)\n",
    "\n",
    "    X.join(y).to_csv(file_path,index=False)\n",
    "\n",
    "    return pd.read_csv(file_path).head()"
   ]
  },
  {
   "cell_type": "code",
   "execution_count": 42,
   "id": "2c8f68cf-4356-42a8-b19c-b91ffb83b4c1",
   "metadata": {},
   "outputs": [
    {
     "data": {
      "text/html": [
       "<div>\n",
       "<style scoped>\n",
       "    .dataframe tbody tr th:only-of-type {\n",
       "        vertical-align: middle;\n",
       "    }\n",
       "\n",
       "    .dataframe tbody tr th {\n",
       "        vertical-align: top;\n",
       "    }\n",
       "\n",
       "    .dataframe thead th {\n",
       "        text-align: right;\n",
       "    }\n",
       "</style>\n",
       "<table border=\"1\" class=\"dataframe\">\n",
       "  <thead>\n",
       "    <tr style=\"text-align: right;\">\n",
       "      <th></th>\n",
       "      <th>date_of_journey</th>\n",
       "      <th>airlines</th>\n",
       "      <th>airlines_code</th>\n",
       "      <th>class</th>\n",
       "      <th>departure</th>\n",
       "      <th>total_stops</th>\n",
       "      <th>arrival</th>\n",
       "      <th>duration_in_minutes</th>\n",
       "      <th>source</th>\n",
       "      <th>destination</th>\n",
       "      <th>price_fare</th>\n",
       "    </tr>\n",
       "  </thead>\n",
       "  <tbody>\n",
       "    <tr>\n",
       "      <th>0</th>\n",
       "      <td>2024-08-27</td>\n",
       "      <td>Vistara</td>\n",
       "      <td>UK-959</td>\n",
       "      <td>Business</td>\n",
       "      <td>12:07:00</td>\n",
       "      <td>1.0</td>\n",
       "      <td>21:52:00</td>\n",
       "      <td>735.0</td>\n",
       "      <td>Delhi</td>\n",
       "      <td>Cochin</td>\n",
       "      <td>37193</td>\n",
       "    </tr>\n",
       "    <tr>\n",
       "      <th>1</th>\n",
       "      <td>2024-05-10</td>\n",
       "      <td>Air India</td>\n",
       "      <td>AI-805</td>\n",
       "      <td>Economy</td>\n",
       "      <td>09:22:00</td>\n",
       "      <td>1.0</td>\n",
       "      <td>23:39:00</td>\n",
       "      <td>130.2</td>\n",
       "      <td>Delhi</td>\n",
       "      <td>Cochin</td>\n",
       "      <td>7320</td>\n",
       "    </tr>\n",
       "    <tr>\n",
       "      <th>2</th>\n",
       "      <td>2024-07-30</td>\n",
       "      <td>Spicejet</td>\n",
       "      <td>SG-8169</td>\n",
       "      <td>Economy</td>\n",
       "      <td>16:51:00</td>\n",
       "      <td>0.0</td>\n",
       "      <td>04:30:00</td>\n",
       "      <td>124.8</td>\n",
       "      <td>Banglore</td>\n",
       "      <td>Delhi</td>\n",
       "      <td>5021</td>\n",
       "    </tr>\n",
       "    <tr>\n",
       "      <th>3</th>\n",
       "      <td>2024-11-18</td>\n",
       "      <td>Air India</td>\n",
       "      <td>AI-481</td>\n",
       "      <td>Business</td>\n",
       "      <td>08:20:00</td>\n",
       "      <td>2.0</td>\n",
       "      <td>04:43:00</td>\n",
       "      <td>814.8</td>\n",
       "      <td>Kolkata</td>\n",
       "      <td>Banglore</td>\n",
       "      <td>31462</td>\n",
       "    </tr>\n",
       "    <tr>\n",
       "      <th>4</th>\n",
       "      <td>2024-10-12</td>\n",
       "      <td>Vistara</td>\n",
       "      <td>UK-817</td>\n",
       "      <td>Economy</td>\n",
       "      <td>06:53:00</td>\n",
       "      <td>0.0</td>\n",
       "      <td>17:29:00</td>\n",
       "      <td>435.0</td>\n",
       "      <td>Banglore</td>\n",
       "      <td>New Delhi</td>\n",
       "      <td>10208</td>\n",
       "    </tr>\n",
       "  </tbody>\n",
       "</table>\n",
       "</div>"
      ],
      "text/plain": [
       "  date_of_journey   airlines airlines_code     class departure  total_stops  \\\n",
       "0      2024-08-27    Vistara        UK-959  Business  12:07:00          1.0   \n",
       "1      2024-05-10  Air India        AI-805   Economy  09:22:00          1.0   \n",
       "2      2024-07-30   Spicejet       SG-8169   Economy  16:51:00          0.0   \n",
       "3      2024-11-18  Air India        AI-481  Business  08:20:00          2.0   \n",
       "4      2024-10-12    Vistara        UK-817   Economy  06:53:00          0.0   \n",
       "\n",
       "    arrival  duration_in_minutes    source destination  price_fare  \n",
       "0  21:52:00                735.0     Delhi      Cochin       37193  \n",
       "1  23:39:00                130.2     Delhi      Cochin        7320  \n",
       "2  04:30:00                124.8  Banglore       Delhi        5021  \n",
       "3  04:43:00                814.8   Kolkata    Banglore       31462  \n",
       "4  17:29:00                435.0  Banglore   New Delhi       10208  "
      ]
     },
     "execution_count": 42,
     "metadata": {},
     "output_type": "execute_result"
    }
   ],
   "source": [
    "export_flights_data(X_train,y_train,\"train\")"
   ]
  },
  {
   "cell_type": "code",
   "execution_count": 43,
   "id": "eaffa0c9-99dc-443b-8ebe-95a66fc0a722",
   "metadata": {},
   "outputs": [
    {
     "data": {
      "text/html": [
       "<div>\n",
       "<style scoped>\n",
       "    .dataframe tbody tr th:only-of-type {\n",
       "        vertical-align: middle;\n",
       "    }\n",
       "\n",
       "    .dataframe tbody tr th {\n",
       "        vertical-align: top;\n",
       "    }\n",
       "\n",
       "    .dataframe thead th {\n",
       "        text-align: right;\n",
       "    }\n",
       "</style>\n",
       "<table border=\"1\" class=\"dataframe\">\n",
       "  <thead>\n",
       "    <tr style=\"text-align: right;\">\n",
       "      <th></th>\n",
       "      <th>date_of_journey</th>\n",
       "      <th>airlines</th>\n",
       "      <th>airlines_code</th>\n",
       "      <th>class</th>\n",
       "      <th>departure</th>\n",
       "      <th>total_stops</th>\n",
       "      <th>arrival</th>\n",
       "      <th>duration_in_minutes</th>\n",
       "      <th>source</th>\n",
       "      <th>destination</th>\n",
       "      <th>price_fare</th>\n",
       "    </tr>\n",
       "  </thead>\n",
       "  <tbody>\n",
       "    <tr>\n",
       "      <th>0</th>\n",
       "      <td>2024-05-06</td>\n",
       "      <td>Vistara</td>\n",
       "      <td>UK-969</td>\n",
       "      <td>Premium Economy</td>\n",
       "      <td>12:25:00</td>\n",
       "      <td>0.0</td>\n",
       "      <td>14:49:00</td>\n",
       "      <td>735.0</td>\n",
       "      <td>Banglore</td>\n",
       "      <td>Delhi</td>\n",
       "      <td>7984</td>\n",
       "    </tr>\n",
       "    <tr>\n",
       "      <th>1</th>\n",
       "      <td>2024-05-01</td>\n",
       "      <td>Vistara</td>\n",
       "      <td>UK-993</td>\n",
       "      <td>Economy</td>\n",
       "      <td>17:25:00</td>\n",
       "      <td>0.0</td>\n",
       "      <td>00:45:00</td>\n",
       "      <td>130.2</td>\n",
       "      <td>Banglore</td>\n",
       "      <td>Delhi</td>\n",
       "      <td>13830</td>\n",
       "    </tr>\n",
       "    <tr>\n",
       "      <th>2</th>\n",
       "      <td>2024-12-22</td>\n",
       "      <td>Air India</td>\n",
       "      <td>AI-473</td>\n",
       "      <td>Business</td>\n",
       "      <td>17:51:00</td>\n",
       "      <td>0.0</td>\n",
       "      <td>19:11:00</td>\n",
       "      <td>1035.0</td>\n",
       "      <td>Banglore</td>\n",
       "      <td>New Delhi</td>\n",
       "      <td>39859</td>\n",
       "    </tr>\n",
       "    <tr>\n",
       "      <th>3</th>\n",
       "      <td>2024-06-19</td>\n",
       "      <td>Vistara</td>\n",
       "      <td>UK-879</td>\n",
       "      <td>Economy</td>\n",
       "      <td>12:29:00</td>\n",
       "      <td>2.0</td>\n",
       "      <td>07:32:00</td>\n",
       "      <td>880.2</td>\n",
       "      <td>Kolkata</td>\n",
       "      <td>Banglore</td>\n",
       "      <td>13620</td>\n",
       "    </tr>\n",
       "    <tr>\n",
       "      <th>4</th>\n",
       "      <td>2024-03-30</td>\n",
       "      <td>Air India</td>\n",
       "      <td>AI-471</td>\n",
       "      <td>Economy</td>\n",
       "      <td>00:52:00</td>\n",
       "      <td>1.0</td>\n",
       "      <td>04:43:00</td>\n",
       "      <td>289.8</td>\n",
       "      <td>Delhi</td>\n",
       "      <td>Cochin</td>\n",
       "      <td>8160</td>\n",
       "    </tr>\n",
       "  </tbody>\n",
       "</table>\n",
       "</div>"
      ],
      "text/plain": [
       "  date_of_journey   airlines airlines_code            class departure  \\\n",
       "0      2024-05-06    Vistara        UK-969  Premium Economy  12:25:00   \n",
       "1      2024-05-01    Vistara        UK-993          Economy  17:25:00   \n",
       "2      2024-12-22  Air India        AI-473         Business  17:51:00   \n",
       "3      2024-06-19    Vistara        UK-879          Economy  12:29:00   \n",
       "4      2024-03-30  Air India        AI-471          Economy  00:52:00   \n",
       "\n",
       "   total_stops   arrival  duration_in_minutes    source destination  \\\n",
       "0          0.0  14:49:00                735.0  Banglore       Delhi   \n",
       "1          0.0  00:45:00                130.2  Banglore       Delhi   \n",
       "2          0.0  19:11:00               1035.0  Banglore   New Delhi   \n",
       "3          2.0  07:32:00                880.2   Kolkata    Banglore   \n",
       "4          1.0  04:43:00                289.8     Delhi      Cochin   \n",
       "\n",
       "   price_fare  \n",
       "0        7984  \n",
       "1       13830  \n",
       "2       39859  \n",
       "3       13620  \n",
       "4        8160  "
      ]
     },
     "execution_count": 43,
     "metadata": {},
     "output_type": "execute_result"
    }
   ],
   "source": [
    "export_flights_data(X_test,y_test,\"test\")"
   ]
  },
  {
   "cell_type": "code",
   "execution_count": 44,
   "id": "d7786ad4-b64b-4d80-86e9-fd1978ea3f99",
   "metadata": {},
   "outputs": [
    {
     "data": {
      "text/html": [
       "<div>\n",
       "<style scoped>\n",
       "    .dataframe tbody tr th:only-of-type {\n",
       "        vertical-align: middle;\n",
       "    }\n",
       "\n",
       "    .dataframe tbody tr th {\n",
       "        vertical-align: top;\n",
       "    }\n",
       "\n",
       "    .dataframe thead th {\n",
       "        text-align: right;\n",
       "    }\n",
       "</style>\n",
       "<table border=\"1\" class=\"dataframe\">\n",
       "  <thead>\n",
       "    <tr style=\"text-align: right;\">\n",
       "      <th></th>\n",
       "      <th>date_of_journey</th>\n",
       "      <th>airlines</th>\n",
       "      <th>airlines_code</th>\n",
       "      <th>class</th>\n",
       "      <th>departure</th>\n",
       "      <th>total_stops</th>\n",
       "      <th>arrival</th>\n",
       "      <th>duration_in_minutes</th>\n",
       "      <th>source</th>\n",
       "      <th>destination</th>\n",
       "      <th>price_fare</th>\n",
       "    </tr>\n",
       "  </thead>\n",
       "  <tbody>\n",
       "    <tr>\n",
       "      <th>0</th>\n",
       "      <td>2024-07-28</td>\n",
       "      <td>Vistara</td>\n",
       "      <td>UK-706</td>\n",
       "      <td>Premium Economy</td>\n",
       "      <td>15:25:00</td>\n",
       "      <td>2.0</td>\n",
       "      <td>01:41:00</td>\n",
       "      <td>495.0</td>\n",
       "      <td>Delhi</td>\n",
       "      <td>Cochin</td>\n",
       "      <td>18142</td>\n",
       "    </tr>\n",
       "    <tr>\n",
       "      <th>1</th>\n",
       "      <td>2024-08-29</td>\n",
       "      <td>Air India</td>\n",
       "      <td>AI-512</td>\n",
       "      <td>Economy</td>\n",
       "      <td>12:47:00</td>\n",
       "      <td>1.0</td>\n",
       "      <td>19:46:00</td>\n",
       "      <td>964.8</td>\n",
       "      <td>Delhi</td>\n",
       "      <td>Cochin</td>\n",
       "      <td>7940</td>\n",
       "    </tr>\n",
       "    <tr>\n",
       "      <th>2</th>\n",
       "      <td>2024-01-15</td>\n",
       "      <td>Go First</td>\n",
       "      <td>G8-213</td>\n",
       "      <td>Economy</td>\n",
       "      <td>14:43:00</td>\n",
       "      <td>1.0</td>\n",
       "      <td>02:20:00</td>\n",
       "      <td>505.2</td>\n",
       "      <td>Delhi</td>\n",
       "      <td>Cochin</td>\n",
       "      <td>17313</td>\n",
       "    </tr>\n",
       "    <tr>\n",
       "      <th>3</th>\n",
       "      <td>2024-02-19</td>\n",
       "      <td>Vistara</td>\n",
       "      <td>UK-899</td>\n",
       "      <td>Business</td>\n",
       "      <td>01:40:00</td>\n",
       "      <td>1.0</td>\n",
       "      <td>04:21:00</td>\n",
       "      <td>505.2</td>\n",
       "      <td>Kolkata</td>\n",
       "      <td>Banglore</td>\n",
       "      <td>55696</td>\n",
       "    </tr>\n",
       "    <tr>\n",
       "      <th>4</th>\n",
       "      <td>2024-06-26</td>\n",
       "      <td>Spicejet</td>\n",
       "      <td>SG-8709</td>\n",
       "      <td>Economy</td>\n",
       "      <td>22:29:00</td>\n",
       "      <td>2.0</td>\n",
       "      <td>00:27:00</td>\n",
       "      <td>124.8</td>\n",
       "      <td>Delhi</td>\n",
       "      <td>Cochin</td>\n",
       "      <td>5794</td>\n",
       "    </tr>\n",
       "  </tbody>\n",
       "</table>\n",
       "</div>"
      ],
      "text/plain": [
       "  date_of_journey   airlines airlines_code            class departure  \\\n",
       "0      2024-07-28    Vistara        UK-706  Premium Economy  15:25:00   \n",
       "1      2024-08-29  Air India        AI-512          Economy  12:47:00   \n",
       "2      2024-01-15   Go First        G8-213          Economy  14:43:00   \n",
       "3      2024-02-19    Vistara        UK-899         Business  01:40:00   \n",
       "4      2024-06-26   Spicejet       SG-8709          Economy  22:29:00   \n",
       "\n",
       "   total_stops   arrival  duration_in_minutes   source destination  price_fare  \n",
       "0          2.0  01:41:00                495.0    Delhi      Cochin       18142  \n",
       "1          1.0  19:46:00                964.8    Delhi      Cochin        7940  \n",
       "2          1.0  02:20:00                505.2    Delhi      Cochin       17313  \n",
       "3          1.0  04:21:00                505.2  Kolkata    Banglore       55696  \n",
       "4          2.0  00:27:00                124.8    Delhi      Cochin        5794  "
      ]
     },
     "execution_count": 44,
     "metadata": {},
     "output_type": "execute_result"
    }
   ],
   "source": [
    "export_flights_data(X_val,y_val,\"validation\")"
   ]
  }
 ],
 "metadata": {
  "kernelspec": {
   "display_name": "Python 3 (ipykernel)",
   "language": "python",
   "name": "python3"
  },
  "language_info": {
   "codemirror_mode": {
    "name": "ipython",
    "version": 3
   },
   "file_extension": ".py",
   "mimetype": "text/x-python",
   "name": "python",
   "nbconvert_exporter": "python",
   "pygments_lexer": "ipython3",
   "version": "3.12.1"
  }
 },
 "nbformat": 4,
 "nbformat_minor": 5
}
